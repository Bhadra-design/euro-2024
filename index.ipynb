{
 "cells": [
  {
   "cell_type": "code",
   "execution_count": 18,
   "metadata": {},
   "outputs": [],
   "source": [
    "import pandas as pd\n",
    "import requests\n",
    "from bs4 import BeautifulSoup"
   ]
  },
  {
   "cell_type": "code",
   "execution_count": 19,
   "metadata": {},
   "outputs": [],
   "source": [
    "ids = [\n",
    "    {\"id\":\"results20246761A_overall\"},\n",
    "    {\"id\":\"results20246761B_overall\"},\n",
    "    {\"id\":\"results20246761C_overall\"},\n",
    "    {\"id\":\"results20246761D_overall\"},\n",
    "    {\"id\":\"results20246761E_overall\"},\n",
    "    {\"id\":\"results20246761F_overall\"},\n",
    "]"
   ]
  },
  {
   "cell_type": "code",
   "execution_count": 20,
   "metadata": {},
   "outputs": [],
   "source": [
    "url = \"https://fbref.com/en/comps/676/European-Championship-Stats\""
   ]
  },
  {
   "cell_type": "code",
   "execution_count": 21,
   "metadata": {},
   "outputs": [],
   "source": [
    "dataframes = []"
   ]
  },
  {
   "cell_type": "code",
   "execution_count": 22,
   "metadata": {},
   "outputs": [],
   "source": [
    "for attr in ids:\n",
    "    tables = pd.read_html(url, attrs=attr)\n",
    "\n",
    "    if tables:\n",
    "        dataframes.append(tables[0])\n",
    "\n",
    "result = pd.concat(dataframes, ignore_index=True)"
   ]
  },
  {
   "cell_type": "code",
   "execution_count": 23,
   "metadata": {},
   "outputs": [],
   "source": [
    "response = requests.get(url)\n",
    "soup = BeautifulSoup(response.content, 'html.parser')"
   ]
  },
  {
   "cell_type": "code",
   "execution_count": 24,
   "metadata": {},
   "outputs": [],
   "source": [
    "squad_links= [] "
   ]
  },
  {
   "cell_type": "code",
   "execution_count": 26,
   "metadata": {},
   "outputs": [],
   "source": [
    "for attr in ids:\n",
    "    table = soup.find('table', attrs=attr)\n",
    "    if table:\n",
    "        for row in table.find_all('tr'):\n",
    "            squad_cell = row.find('td', {'data-stat': 'team'})\n",
    "            if squad_cell and squad_cell.find('a'):\n",
    "                squad_link = squad_cell.find('a')['href']\n",
    "                full_link = f\"https://fbref.com{squad_link}\"\n",
    "                squad_links.append(full_link)\n",
    "\n",
    "if len(squad_links) < len(result):\n",
    "    squad_links.extend([None] * (len(result) - len(squad_links)))\n",
    "\n",
    "result['Squad Link'] = squad_links"
   ]
  },
  {
   "cell_type": "code",
   "execution_count": 28,
   "metadata": {},
   "outputs": [],
   "source": [
    "squad_links_pd = pd.Series(squad_links)"
   ]
  },
  {
   "cell_type": "code",
   "execution_count": 29,
   "metadata": {},
   "outputs": [
    {
     "data": {
      "text/plain": [
       "0     https://fbref.com/en/squads/c1e40422/Germany-M...\n",
       "1     https://fbref.com/en/squads/b4ac5e97/Hungary-M...\n",
       "2     https://fbref.com/en/squads/602d3994/Scotland-...\n",
       "3     https://fbref.com/en/squads/81021a70/Switzerla...\n",
       "4     https://fbref.com/en/squads/7b08e376/Croatia-M...\n",
       "5     https://fbref.com/en/squads/998c5958/Italy-Men...\n",
       "6     https://fbref.com/en/squads/b561dd30/Spain-Men...\n",
       "7     https://fbref.com/en/squads/b44b9eb7/Albania-M...\n",
       "8     https://fbref.com/en/squads/29a4e4af/Denmark-M...\n",
       "9     https://fbref.com/en/squads/1862c019/England-M...\n",
       "10    https://fbref.com/en/squads/1d6f5c9b/Serbia-Me...\n",
       "11    https://fbref.com/en/squads/6b9f868f/Slovenia-...\n",
       "12    https://fbref.com/en/squads/d5121f10/Austria-M...\n",
       "13    https://fbref.com/en/squads/b1b36dcd/France-Me...\n",
       "14    https://fbref.com/en/squads/5bb5024a/Netherlan...\n",
       "15    https://fbref.com/en/squads/8912dcf0/Poland-Me...\n",
       "16    https://fbref.com/en/squads/361422b9/Belgium-M...\n",
       "17    https://fbref.com/en/squads/7def9493/Romania-M...\n",
       "18    https://fbref.com/en/squads/66cff10b/Slovakia-...\n",
       "19    https://fbref.com/en/squads/afa29a3e/Ukraine-M...\n",
       "20    https://fbref.com/en/squads/2740937c/Czechia-M...\n",
       "21    https://fbref.com/en/squads/4a1b4ea8/Portugal-...\n",
       "22    https://fbref.com/en/squads/ac6bcf92/Turkiye-M...\n",
       "23    https://fbref.com/en/squads/7158b127/Georgia-M...\n",
       "dtype: object"
      ]
     },
     "execution_count": 29,
     "metadata": {},
     "output_type": "execute_result"
    }
   ],
   "source": [
    "squad_links_pd"
   ]
  },
  {
   "cell_type": "code",
   "execution_count": 30,
   "metadata": {},
   "outputs": [],
   "source": [
    "import os"
   ]
  },
  {
   "cell_type": "code",
   "execution_count": 31,
   "metadata": {},
   "outputs": [],
   "source": [
    "output_dir = 'team_html_files'\n",
    "os.makedirs(output_dir, exist_ok=True)"
   ]
  },
  {
   "cell_type": "code",
   "execution_count": 33,
   "metadata": {},
   "outputs": [
    {
     "name": "stdout",
     "output_type": "stream",
     "text": [
      "Saved de-Germany.html to team_html_files\\de-Germany.html\n",
      "Saved hu-Hungary.html to team_html_files\\hu-Hungary.html\n",
      "Saved sct-Scotland.html to team_html_files\\sct-Scotland.html\n",
      "Saved ch-Switzerland.html to team_html_files\\ch-Switzerland.html\n",
      "Saved hr-Croatia.html to team_html_files\\hr-Croatia.html\n",
      "Saved it-Italy.html to team_html_files\\it-Italy.html\n",
      "Saved es-Spain.html to team_html_files\\es-Spain.html\n",
      "Saved al-Albania.html to team_html_files\\al-Albania.html\n",
      "Saved dk-Denmark.html to team_html_files\\dk-Denmark.html\n",
      "Saved eng-England.html to team_html_files\\eng-England.html\n",
      "Saved rs-Serbia.html to team_html_files\\rs-Serbia.html\n",
      "Saved si-Slovenia.html to team_html_files\\si-Slovenia.html\n",
      "Saved at-Austria.html to team_html_files\\at-Austria.html\n",
      "Saved fr-France.html to team_html_files\\fr-France.html\n",
      "Saved nl-Netherlands.html to team_html_files\\nl-Netherlands.html\n",
      "Saved pl-Poland.html to team_html_files\\pl-Poland.html\n",
      "Saved be-Belgium.html to team_html_files\\be-Belgium.html\n",
      "Saved ro-Romania.html to team_html_files\\ro-Romania.html\n",
      "Saved sk-Slovakia.html to team_html_files\\sk-Slovakia.html\n",
      "Saved ua-Ukraine.html to team_html_files\\ua-Ukraine.html\n",
      "Saved cz-Czechia.html to team_html_files\\cz-Czechia.html\n",
      "Saved pt-Portugal.html to team_html_files\\pt-Portugal.html\n",
      "Saved tr-Türkiye.html to team_html_files\\tr-Türkiye.html\n",
      "Saved ge-Georgia.html to team_html_files\\ge-Georgia.html\n"
     ]
    }
   ],
   "source": [
    "for i, link in enumerate(squad_links):\n",
    "    if link:\n",
    "        response = requests.get(link)\n",
    "        if response.status_code == 200:\n",
    "            team_name = result.at[i, 'Squad']\n",
    "            filename = f\"{team_name.replace(' ', '-')}.html\"\n",
    "            filepath = os.path.join(output_dir, filename)\n",
    "            with open(filepath, 'w', encoding='utf-8') as file:\n",
    "                file.write(response.text)\n",
    "            print(f\"Saved {filename} to {filepath}\")\n",
    "        else:\n",
    "            print(f\"Failed to download {link}\")\n",
    "    else:\n",
    "        print(f\"No link found for {i}\")"
   ]
  },
  {
   "cell_type": "code",
   "execution_count": null,
   "metadata": {},
   "outputs": [],
   "source": []
  }
 ],
 "metadata": {
  "kernelspec": {
   "display_name": "Python 3",
   "language": "python",
   "name": "python3"
  },
  "language_info": {
   "codemirror_mode": {
    "name": "ipython",
    "version": 3
   },
   "file_extension": ".py",
   "mimetype": "text/x-python",
   "name": "python",
   "nbconvert_exporter": "python",
   "pygments_lexer": "ipython3",
   "version": "3.12.1"
  }
 },
 "nbformat": 4,
 "nbformat_minor": 2
}
