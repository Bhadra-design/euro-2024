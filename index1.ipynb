{
 "cells": [
  {
   "cell_type": "code",
   "execution_count": 1,
   "metadata": {},
   "outputs": [],
   "source": [
    "import pandas as pd\n",
    "from bs4 import BeautifulSoup\n"
   ]
  },
  {
   "cell_type": "code",
   "execution_count": 2,
   "metadata": {},
   "outputs": [],
   "source": [
    "html_filepath = 'team_html_files/al-Albania.html'"
   ]
  },
  {
   "cell_type": "code",
   "execution_count": 3,
   "metadata": {},
   "outputs": [],
   "source": [
    "all_player_data = pd.DataFrame()\n",
    "all_match_data = pd.DataFrame()"
   ]
  },
  {
   "cell_type": "code",
   "execution_count": 4,
   "metadata": {},
   "outputs": [],
   "source": [
    "with open (html_filepath, 'r', encoding='utf-8') as file:\n",
    "    content = file.read()"
   ]
  },
  {
   "cell_type": "code",
   "execution_count": 5,
   "metadata": {},
   "outputs": [],
   "source": [
    "soup = BeautifulSoup(content, 'html.parser')"
   ]
  },
  {
   "cell_type": "code",
   "execution_count": 6,
   "metadata": {},
   "outputs": [
    {
     "name": "stdout",
     "output_type": "stream",
     "text": [
      "Player table not found for Albania\n"
     ]
    }
   ],
   "source": [
    "player_table = soup.find('table', {'id':'div_stats_standard_678'})\n",
    "if player_table:\n",
    "    print(\"Player table found for Albania\")\n",
    "    player_df = pd.read_html(str(player_table))[0]\n",
    "    player_df['Team'] = 'Albania'\n",
    "    all_player_data = pd.concat([all_player_data, player_df], ignore_index=True)\n",
    "else:\n",
    "    print(\"Player table not found for Albania\")"
   ]
  },
  {
   "cell_type": "code",
   "execution_count": 7,
   "metadata": {},
   "outputs": [
    {
     "name": "stdout",
     "output_type": "stream",
     "text": [
      "Match table found for Albania.\n"
     ]
    },
    {
     "name": "stderr",
     "output_type": "stream",
     "text": [
      "C:\\Users\\Bhadra\\AppData\\Local\\Temp\\ipykernel_9364\\4116757307.py:4: FutureWarning: Passing literal html to 'read_html' is deprecated and will be removed in a future version. To read from a literal string, wrap it in a 'StringIO' object.\n",
      "  match_df = pd.read_html(str(match_table))[0]\n"
     ]
    }
   ],
   "source": [
    "match_table = soup.find('table', {'id': 'matchlogs_for'})\n",
    "if match_table:\n",
    "    print(\"Match table found for Albania.\")\n",
    "    match_df = pd.read_html(str(match_table))[0]\n",
    "    match_df['Team'] = 'Albania'  # Add 'Team' column\n",
    "    all_match_data = pd.concat([all_match_data, match_df], ignore_index=True)\n",
    "else:\n",
    "    print(\"No match table found for Albania.\")"
   ]
  },
  {
   "cell_type": "code",
   "execution_count": null,
   "metadata": {},
   "outputs": [],
   "source": []
  }
 ],
 "metadata": {
  "kernelspec": {
   "display_name": "Python 3",
   "language": "python",
   "name": "python3"
  },
  "language_info": {
   "codemirror_mode": {
    "name": "ipython",
    "version": 3
   },
   "file_extension": ".py",
   "mimetype": "text/x-python",
   "name": "python",
   "nbconvert_exporter": "python",
   "pygments_lexer": "ipython3",
   "version": "3.12.1"
  }
 },
 "nbformat": 4,
 "nbformat_minor": 2
}
