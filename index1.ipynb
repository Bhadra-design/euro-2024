{
 "cells": [
  {
   "cell_type": "code",
   "execution_count": 1,
   "metadata": {},
   "outputs": [],
   "source": [
    "import os\n",
    "from bs4 import BeautifulSoup"
   ]
  },
  {
   "cell_type": "code",
   "execution_count": 2,
   "metadata": {},
   "outputs": [],
   "source": [
    "file_path = 'team_html_files/al-Albania.html'\n",
    "base_url = 'https://fbref.com'"
   ]
  },
  {
   "cell_type": "code",
   "execution_count": 3,
   "metadata": {},
   "outputs": [],
   "source": [
    "albania_match_report_links = []"
   ]
  },
  {
   "cell_type": "code",
   "execution_count": 4,
   "metadata": {},
   "outputs": [],
   "source": [
    "with open (file_path, 'r', encoding='utf-8') as file:\n",
    "    content = file.read()"
   ]
  },
  {
   "cell_type": "code",
   "execution_count": 5,
   "metadata": {},
   "outputs": [],
   "source": [
    "soup = BeautifulSoup(content, 'html.parser')"
   ]
  },
  {
   "cell_type": "code",
   "execution_count": null,
   "metadata": {},
   "outputs": [],
   "source": [
    "print(soup.prettify())"
   ]
  },
  {
   "cell_type": "code",
   "execution_count": 7,
   "metadata": {},
   "outputs": [],
   "source": [
    "match_report_elements = soup.find_all('td', {'class': 'left group_start', 'data-stat': 'match_report'})"
   ]
  },
  {
   "cell_type": "code",
   "execution_count": 9,
   "metadata": {},
   "outputs": [
    {
     "data": {
      "text/plain": [
       "[<td class=\"left group_start\" data-stat=\"match_report\"><a href=\"/en/matches/b3cfd5ef/Poland-Albania-March-27-2023-UEFA-Euro-Qualifying\">Match Report</a></td>,\n",
       " <td class=\"left group_start\" data-stat=\"match_report\"><a href=\"/en/matches/5d41385c/Albania-Moldova-June-17-2023-UEFA-Euro-Qualifying\">Match Report</a></td>,\n",
       " <td class=\"left group_start\" data-stat=\"match_report\"><a href=\"/en/matches/ef410b8b/Faroe-Islands-Albania-June-20-2023-UEFA-Euro-Qualifying\">Match Report</a></td>,\n",
       " <td class=\"left group_start\" data-stat=\"match_report\"><a href=\"/en/matches/248ee808/Czechia-Albania-September-7-2023-UEFA-Euro-Qualifying\">Match Report</a></td>,\n",
       " <td class=\"left group_start\" data-stat=\"match_report\"><a href=\"/en/matches/95ef12bc/Albania-Poland-September-10-2023-UEFA-Euro-Qualifying\">Match Report</a></td>,\n",
       " <td class=\"left group_start\" data-stat=\"match_report\"><a href=\"/en/matches/38548416/Albania-Czechia-October-12-2023-UEFA-Euro-Qualifying\">Match Report</a></td>,\n",
       " <td class=\"left group_start\" data-stat=\"match_report\"><a href=\"/en/matches/8c0f8711/Moldova-Albania-November-17-2023-UEFA-Euro-Qualifying\">Match Report</a></td>,\n",
       " <td class=\"left group_start\" data-stat=\"match_report\"><a href=\"/en/matches/9532c14b/Albania-Faroe-Islands-November-20-2023-UEFA-Euro-Qualifying\">Match Report</a></td>,\n",
       " <td class=\"left group_start\" data-stat=\"match_report\"><a href=\"/en/matches/01304208/Albania-Chile-March-22-2024-Friendlies-M\">Match Report</a></td>,\n",
       " <td class=\"left group_start\" data-stat=\"match_report\"><a href=\"/en/matches/a4d38035/Sweden-Albania-March-25-2024-Friendlies-M\">Match Report</a></td>,\n",
       " <td class=\"left group_start\" data-stat=\"match_report\"><a href=\"/en/stathead/matchup/teams/c8f74183/b44b9eb7/Liechtenstein-vs-Albania-History\">Head-to-Head</a></td>,\n",
       " <td class=\"left group_start\" data-stat=\"match_report\"><a href=\"/en/stathead/matchup/teams/d08da289/b44b9eb7/Azerbaijan-vs-Albania-History\">Head-to-Head</a></td>,\n",
       " <td class=\"left group_start\" data-stat=\"match_report\"><a href=\"/en/stathead/matchup/teams/b44b9eb7/998c5958/Albania-vs-Italy-History\">Head-to-Head</a></td>,\n",
       " <td class=\"left group_start\" data-stat=\"match_report\"><a href=\"/en/stathead/matchup/teams/b44b9eb7/7b08e376/Albania-vs-Croatia-History\">Head-to-Head</a></td>,\n",
       " <td class=\"left group_start\" data-stat=\"match_report\"><a href=\"/en/stathead/matchup/teams/b561dd30/b44b9eb7/Spain-vs-Albania-History\">Head-to-Head</a></td>]"
      ]
     },
     "execution_count": 9,
     "metadata": {},
     "output_type": "execute_result"
    }
   ],
   "source": [
    "match_report_elements"
   ]
  },
  {
   "cell_type": "code",
   "execution_count": 12,
   "metadata": {},
   "outputs": [
    {
     "name": "stdout",
     "output_type": "stream",
     "text": [
      "Extracted link: https://fbref.com/en/matches/b3cfd5ef/Poland-Albania-March-27-2023-UEFA-Euro-Qualifying\n",
      "Extracted link: https://fbref.com/en/matches/5d41385c/Albania-Moldova-June-17-2023-UEFA-Euro-Qualifying\n",
      "Extracted link: https://fbref.com/en/matches/ef410b8b/Faroe-Islands-Albania-June-20-2023-UEFA-Euro-Qualifying\n",
      "Extracted link: https://fbref.com/en/matches/248ee808/Czechia-Albania-September-7-2023-UEFA-Euro-Qualifying\n",
      "Extracted link: https://fbref.com/en/matches/95ef12bc/Albania-Poland-September-10-2023-UEFA-Euro-Qualifying\n",
      "Extracted link: https://fbref.com/en/matches/38548416/Albania-Czechia-October-12-2023-UEFA-Euro-Qualifying\n",
      "Extracted link: https://fbref.com/en/matches/8c0f8711/Moldova-Albania-November-17-2023-UEFA-Euro-Qualifying\n",
      "Extracted link: https://fbref.com/en/matches/9532c14b/Albania-Faroe-Islands-November-20-2023-UEFA-Euro-Qualifying\n",
      "Extracted link: https://fbref.com/en/matches/01304208/Albania-Chile-March-22-2024-Friendlies-M\n",
      "Extracted link: https://fbref.com/en/matches/a4d38035/Sweden-Albania-March-25-2024-Friendlies-M\n",
      "Extracted link: https://fbref.com/en/stathead/matchup/teams/c8f74183/b44b9eb7/Liechtenstein-vs-Albania-History\n",
      "Extracted link: https://fbref.com/en/stathead/matchup/teams/d08da289/b44b9eb7/Azerbaijan-vs-Albania-History\n",
      "Extracted link: https://fbref.com/en/stathead/matchup/teams/b44b9eb7/998c5958/Albania-vs-Italy-History\n",
      "Extracted link: https://fbref.com/en/stathead/matchup/teams/b44b9eb7/7b08e376/Albania-vs-Croatia-History\n",
      "Extracted link: https://fbref.com/en/stathead/matchup/teams/b561dd30/b44b9eb7/Spain-vs-Albania-History\n"
     ]
    }
   ],
   "source": [
    "for element in match_report_elements:\n",
    "    link_element = element.find('a')\n",
    "    if link_element:\n",
    "        match_report_link = base_url + link_element.get('href')\n",
    "        albania_match_report_links.append(match_report_link)\n",
    "        print(f\"Extracted link: {match_report_link}\")"
   ]
  },
  {
   "cell_type": "code",
   "execution_count": 13,
   "metadata": {},
   "outputs": [
    {
     "data": {
      "text/plain": [
       "['https://fbref.com/en/matches/b3cfd5ef/Poland-Albania-March-27-2023-UEFA-Euro-Qualifying',\n",
       " 'https://fbref.com/en/matches/5d41385c/Albania-Moldova-June-17-2023-UEFA-Euro-Qualifying',\n",
       " 'https://fbref.com/en/matches/ef410b8b/Faroe-Islands-Albania-June-20-2023-UEFA-Euro-Qualifying',\n",
       " 'https://fbref.com/en/matches/248ee808/Czechia-Albania-September-7-2023-UEFA-Euro-Qualifying',\n",
       " 'https://fbref.com/en/matches/95ef12bc/Albania-Poland-September-10-2023-UEFA-Euro-Qualifying',\n",
       " 'https://fbref.com/en/matches/38548416/Albania-Czechia-October-12-2023-UEFA-Euro-Qualifying',\n",
       " 'https://fbref.com/en/matches/8c0f8711/Moldova-Albania-November-17-2023-UEFA-Euro-Qualifying',\n",
       " 'https://fbref.com/en/matches/9532c14b/Albania-Faroe-Islands-November-20-2023-UEFA-Euro-Qualifying',\n",
       " 'https://fbref.com/en/matches/01304208/Albania-Chile-March-22-2024-Friendlies-M',\n",
       " 'https://fbref.com/en/matches/a4d38035/Sweden-Albania-March-25-2024-Friendlies-M',\n",
       " 'https://fbref.com/en/stathead/matchup/teams/c8f74183/b44b9eb7/Liechtenstein-vs-Albania-History',\n",
       " 'https://fbref.com/en/stathead/matchup/teams/d08da289/b44b9eb7/Azerbaijan-vs-Albania-History',\n",
       " 'https://fbref.com/en/stathead/matchup/teams/b44b9eb7/998c5958/Albania-vs-Italy-History',\n",
       " 'https://fbref.com/en/stathead/matchup/teams/b44b9eb7/7b08e376/Albania-vs-Croatia-History',\n",
       " 'https://fbref.com/en/stathead/matchup/teams/b561dd30/b44b9eb7/Spain-vs-Albania-History']"
      ]
     },
     "execution_count": 13,
     "metadata": {},
     "output_type": "execute_result"
    }
   ],
   "source": [
    "albania_match_report_links"
   ]
  },
  {
   "cell_type": "code",
   "execution_count": null,
   "metadata": {},
   "outputs": [],
   "source": []
  }
 ],
 "metadata": {
  "kernelspec": {
   "display_name": "Python 3",
   "language": "python",
   "name": "python3"
  },
  "language_info": {
   "codemirror_mode": {
    "name": "ipython",
    "version": 3
   },
   "file_extension": ".py",
   "mimetype": "text/x-python",
   "name": "python",
   "nbconvert_exporter": "python",
   "pygments_lexer": "ipython3",
   "version": "3.12.1"
  }
 },
 "nbformat": 4,
 "nbformat_minor": 2
}
